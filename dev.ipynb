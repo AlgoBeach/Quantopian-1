{
 "cells": [
  {
   "cell_type": "code",
   "execution_count": 57,
   "metadata": {
    "collapsed": true
   },
   "outputs": [],
   "source": [
    "import numpy as np\n",
    "import glob\n",
    "import datetime"
   ]
  },
  {
   "cell_type": "code",
   "execution_count": 58,
   "metadata": {
    "collapsed": false
   },
   "outputs": [],
   "source": [
    "dataset = []\n",
    "for idx in glob.glob(\"data/*.csv\"):\n",
    "    if idx == 'data/S&P500.csv': continue\n",
    "    stock = np.genfromtxt(idx,skip_header=1,usecols=(0,1),delimiter=',',dtype=[\"S10\",\"f8\"])\n",
    "    data = np.zeros((stock.shape[0],2))\n",
    "    data[:,0] = np.array([datetime.datetime.strptime(entry[0], \"%Y-%m-%d\").date().timetuple().tm_yday for entry in stock])\n",
    "    data[:,1] = np.array([entry[1] for entry in stock])\n",
    "    dataset.append((idx,data))"
   ]
  },
  {
   "cell_type": "code",
   "execution_count": 59,
   "metadata": {
    "collapsed": false,
    "scrolled": false
   },
   "outputs": [],
   "source": [
    "num_stocks = 4\n",
    "data_batches = []\n",
    "idxs = []\n",
    "\n",
    "for stock1 in range(0,len(dataset)):\n",
    "    for stock2 in range(stock1+1,len(dataset)):\n",
    "        for stock3 in range(stock2+1,len(dataset)):\n",
    "            for stock4 in range(stock3+1,len(dataset)):\n",
    "                size = np.min([dataset[stock1][1].shape[0],dataset[stock2][1].shape[0],dataset[stock3][1].shape[0],dataset[stock4][1].shape[0]])\n",
    "                data_batch = np.hstack((dataset[stock1][1][0:size,:],dataset[stock2][1][0:size,:],dataset[stock3][1][0:size,:],dataset[stock4][1][0:size,:]))\n",
    "                data_batches.append(data_batch)\n",
    "                if not idxs:\n",
    "                    idxs.append(data_batch.shape[0]-2)\n",
    "                else:\n",
    "                    idxs.append(idxs[-1] + data_batch.shape[0] - 1)"
   ]
  },
  {
   "cell_type": "code",
   "execution_count": 60,
   "metadata": {
    "collapsed": false
   },
   "outputs": [],
   "source": [
    "def label(current, future):\n",
    "    label = np.zeros(5) # [stock1, stock2, stock3, stock4, Cash]\n",
    "    profit = np.true_divide(future - current, current)\n",
    "    idx = np.argmax(profit)\n",
    "    if profit[idx] <= 0: idx = -1\n",
    "    label[idx] = 1\n",
    "    return label"
   ]
  },
  {
   "cell_type": "code",
   "execution_count": 61,
   "metadata": {
    "collapsed": false
   },
   "outputs": [],
   "source": [
    "label_batches = []\n",
    "\n",
    "for batch in data_batches:\n",
    "    label_batch = np.zeros((batch.shape[0]-1,5))\n",
    "    for idx in range(batch.shape[0]-1):\n",
    "        current, future = batch[idx+1][[1,3,5,7]], batch[idx][[1,3,5,7]]\n",
    "        label_batch[idx] = label(current,future)\n",
    "    label_batches.append(label_batch)"
   ]
  },
  {
   "cell_type": "code",
   "execution_count": 62,
   "metadata": {
    "collapsed": true
   },
   "outputs": [],
   "source": [
    "X_train = np.vstack((batch[1:,:] for batch in data_batches))"
   ]
  },
  {
   "cell_type": "code",
   "execution_count": 63,
   "metadata": {
    "collapsed": false
   },
   "outputs": [
    {
     "data": {
      "text/plain": [
       "(264809, 8)"
      ]
     },
     "execution_count": 63,
     "metadata": {},
     "output_type": "execute_result"
    }
   ],
   "source": [
    "X_train.shape"
   ]
  },
  {
   "cell_type": "code",
   "execution_count": 64,
   "metadata": {
    "collapsed": true
   },
   "outputs": [],
   "source": [
    "Y_train = np.vstack(np.vstack((label for label in label_batch)) for label_batch in label_batches)"
   ]
  },
  {
   "cell_type": "code",
   "execution_count": 65,
   "metadata": {
    "collapsed": false
   },
   "outputs": [
    {
     "data": {
      "text/plain": [
       "(264809, 5)"
      ]
     },
     "execution_count": 65,
     "metadata": {},
     "output_type": "execute_result"
    }
   ],
   "source": [
    "Y_train.shape"
   ]
  },
  {
   "cell_type": "code",
   "execution_count": 66,
   "metadata": {
    "collapsed": false
   },
   "outputs": [],
   "source": [
    "np.save('X_train',X_train)\n",
    "np.save('Y_train',Y_train)"
   ]
  },
  {
   "cell_type": "code",
   "execution_count": 38,
   "metadata": {
    "collapsed": false
   },
   "outputs": [],
   "source": []
  },
  {
   "cell_type": "code",
   "execution_count": 92,
   "metadata": {
    "collapsed": false
   },
   "outputs": [],
   "source": [
    "import numpy as np\n",
    "from keras.models import Sequential\n",
    "from keras.optimizers import RMSprop\n",
    "from keras.layers import Dense, Dropout, Activation\n",
    "from keras.layers import LSTM, TimeDistributed"
   ]
  },
  {
   "cell_type": "code",
   "execution_count": 69,
   "metadata": {
    "collapsed": true
   },
   "outputs": [],
   "source": [
    "X_train = np.load('X_train.npy')\n",
    "Y_train = np.load('Y_train.npy')\n",
    "\n",
    "mean = X_train.mean(axis=0)\n",
    "std = X_train.std(axis=0)\n",
    "\n",
    "X_train_norm = (X_train - mean)/std"
   ]
  },
  {
   "cell_type": "code",
   "execution_count": 70,
   "metadata": {
    "collapsed": false
   },
   "outputs": [],
   "source": [
    "input_dim = X_train.shape[1]\n",
    "output_dim = Y_train.shape[1]\n",
    "T = 100\n",
    "X_train_seq = []\n",
    "Y_train_seq = []\n",
    "for i in range(len(idxs)):\n",
    "    if i == 0:\n",
    "        start_idx = 0\n",
    "    else:\n",
    "        start_idx = idxs[i-1] + 1\n",
    "    end_idx = idxs[i]\n",
    "    for j in range(start_idx + T - 1, end_idx+1):\n",
    "        tX = X_train_norm[j - (T - 1): j + 1]\n",
    "        tY = Y_train[j]\n",
    "        X_train_seq.append(tX[None,:,:])\n",
    "        Y_train_seq.append(tY[None,:])\n",
    "        del tX\n",
    "        del tY\n",
    "\n",
    "X_train_seq = np.concatenate(X_train_seq, axis=0)\n",
    "Y_train_seq = np.concatenate(Y_train_seq, axis=0)"
   ]
  },
  {
   "cell_type": "code",
   "execution_count": 109,
   "metadata": {
    "collapsed": false,
    "scrolled": false
   },
   "outputs": [],
   "source": [
    "data_dim = 8\n",
    "timesteps = 100\n",
    "nb_classes = 5\n",
    "\n",
    "model = Sequential()\n",
    "model.add(TimeDistributed(Dense(42, activation='relu'), input_shape=(timesteps, data_dim)))\n",
    "model.add(LSTM(42, return_sequences=True))\n",
    "model.add(LSTM(42, return_sequences=False))\n",
    "model.add(Dense(5,activation='softmax'))\n",
    "\n",
    "model.compile(loss='categorical_crossentropy',\n",
    "              optimizer='rmsprop',\n",
    "              metrics=['categorical_accuracy'])\n",
    "\n",
    "# model.fit(X_train_seq[:20], Y_train_seq[:20], batch_size=20, nb_epoch=20)\n",
    "#score = model.evaluate(X_test, Y_test, batch_size=16)"
   ]
  },
  {
   "cell_type": "code",
   "execution_count": null,
   "metadata": {
    "collapsed": false,
    "scrolled": true
   },
   "outputs": [
    {
     "name": "stdout",
     "output_type": "stream",
     "text": [
      "Epoch 1/10000\n",
      "  3900/252335 [..............................] - ETA: 2477s - loss: 1.5969 - categorical_accuracy: 0.2508"
     ]
    }
   ],
   "source": [
    "model.fit(X_train_seq, Y_train_seq, batch_size=50, nb_epoch=10000)"
   ]
  },
  {
   "cell_type": "code",
   "execution_count": 114,
   "metadata": {
    "collapsed": false
   },
   "outputs": [
    {
     "name": "stdout",
     "output_type": "stream",
     "text": [
      "500/500 [==============================] - 1s     \n"
     ]
    },
    {
     "data": {
      "text/plain": [
       "0.17999999999999999"
      ]
     },
     "execution_count": 114,
     "metadata": {},
     "output_type": "execute_result"
    }
   ],
   "source": [
    "predictions = np.argmax(model.predict_proba(X_train_seq[1000:1500,:,:]),axis=1)\n",
    "truth = np.argmax(Y_train_seq[1000:1500],axis=1)\n",
    "np.mean(predictions==truth)"
   ]
  },
  {
   "cell_type": "code",
   "execution_count": 104,
   "metadata": {
    "collapsed": false
   },
   "outputs": [
    {
     "name": "stdout",
     "output_type": "stream",
     "text": [
      "____________________________________________________________________________________________________\n",
      "Layer (type)                     Output Shape          Param #     Connected to                     \n",
      "====================================================================================================\n",
      "timedistributed_7 (TimeDistribute(None, 100, 42)       378         timedistributed_input_5[0][0]    \n",
      "____________________________________________________________________________________________________\n",
      "lstm_6 (LSTM)                    (None, 42)            14280       timedistributed_7[0][0]          \n",
      "____________________________________________________________________________________________________\n",
      "dense_13 (Dense)                 (None, 5)             215         lstm_6[0][0]                     \n",
      "====================================================================================================\n",
      "Total params: 14873\n",
      "____________________________________________________________________________________________________\n"
     ]
    }
   ],
   "source": [
    "model.summary()"
   ]
  },
  {
   "cell_type": "code",
   "execution_count": 105,
   "metadata": {
    "collapsed": false
   },
   "outputs": [
    {
     "data": {
      "text/plain": [
       "[{'class_name': 'TimeDistributed',\n",
       "  'config': {'batch_input_shape': (None, 100, 8),\n",
       "   'input_dtype': 'float32',\n",
       "   'layer': {'class_name': 'Dense',\n",
       "    'config': {'W_constraint': None,\n",
       "     'W_regularizer': None,\n",
       "     'activation': 'relu',\n",
       "     'activity_regularizer': None,\n",
       "     'b_constraint': None,\n",
       "     'b_regularizer': None,\n",
       "     'bias': True,\n",
       "     'init': 'glorot_uniform',\n",
       "     'input_dim': None,\n",
       "     'name': 'dense_12',\n",
       "     'output_dim': 42,\n",
       "     'trainable': True}},\n",
       "   'name': 'timedistributed_7',\n",
       "   'trainable': True}},\n",
       " {'class_name': 'LSTM',\n",
       "  'config': {'U_regularizer': None,\n",
       "   'W_regularizer': None,\n",
       "   'activation': 'tanh',\n",
       "   'b_regularizer': None,\n",
       "   'consume_less': 'cpu',\n",
       "   'dropout_U': 0.0,\n",
       "   'dropout_W': 0.0,\n",
       "   'forget_bias_init': 'one',\n",
       "   'go_backwards': False,\n",
       "   'init': 'glorot_uniform',\n",
       "   'inner_activation': 'hard_sigmoid',\n",
       "   'inner_init': 'orthogonal',\n",
       "   'input_dim': 42,\n",
       "   'input_length': None,\n",
       "   'name': 'lstm_6',\n",
       "   'output_dim': 42,\n",
       "   'return_sequences': False,\n",
       "   'stateful': False,\n",
       "   'trainable': True,\n",
       "   'unroll': False}},\n",
       " {'class_name': 'Dense',\n",
       "  'config': {'W_constraint': None,\n",
       "   'W_regularizer': None,\n",
       "   'activation': 'softmax',\n",
       "   'activity_regularizer': None,\n",
       "   'b_constraint': None,\n",
       "   'b_regularizer': None,\n",
       "   'bias': True,\n",
       "   'init': 'glorot_uniform',\n",
       "   'input_dim': None,\n",
       "   'name': 'dense_13',\n",
       "   'output_dim': 5,\n",
       "   'trainable': True}}]"
      ]
     },
     "execution_count": 105,
     "metadata": {},
     "output_type": "execute_result"
    }
   ],
   "source": [
    "model.get_config()"
   ]
  },
  {
   "cell_type": "code",
   "execution_count": 106,
   "metadata": {
    "collapsed": false
   },
   "outputs": [
    {
     "ename": "ImportError",
     "evalue": "No module named h5py",
     "output_type": "error",
     "traceback": [
      "\u001b[0;31m---------------------------------------------------------------------------\u001b[0m",
      "\u001b[0;31mImportError\u001b[0m                               Traceback (most recent call last)",
      "\u001b[0;32m<ipython-input-106-9b2f70c28702>\u001b[0m in \u001b[0;36m<module>\u001b[0;34m()\u001b[0m\n\u001b[0;32m----> 1\u001b[0;31m \u001b[0mmodel\u001b[0m\u001b[0;34m.\u001b[0m\u001b[0msave_weights\u001b[0m\u001b[0;34m(\u001b[0m\u001b[0;34m\"weights\"\u001b[0m\u001b[0;34m)\u001b[0m\u001b[0;34m\u001b[0m\u001b[0m\n\u001b[0m",
      "\u001b[0;32m/Library/Python/2.7/site-packages/keras/engine/topology.pyc\u001b[0m in \u001b[0;36msave_weights\u001b[0;34m(self, filepath, overwrite)\u001b[0m\n\u001b[1;32m   2435\u001b[0m                     \u001b[0mstoring\u001b[0m \u001b[0mthe\u001b[0m \u001b[0mweight\u001b[0m \u001b[0mvalue\u001b[0m\u001b[0;34m,\u001b[0m \u001b[0mnamed\u001b[0m \u001b[0mafter\u001b[0m \u001b[0mthe\u001b[0m \u001b[0mweight\u001b[0m \u001b[0mtensor\u001b[0m\u001b[0;34m\u001b[0m\u001b[0m\n\u001b[1;32m   2436\u001b[0m         '''\n\u001b[0;32m-> 2437\u001b[0;31m         \u001b[0;32mimport\u001b[0m \u001b[0mh5py\u001b[0m\u001b[0;34m\u001b[0m\u001b[0m\n\u001b[0m\u001b[1;32m   2438\u001b[0m         \u001b[0;31m# if file exists and should not be overwritten\u001b[0m\u001b[0;34m\u001b[0m\u001b[0;34m\u001b[0m\u001b[0m\n\u001b[1;32m   2439\u001b[0m         \u001b[0;32mif\u001b[0m \u001b[0;32mnot\u001b[0m \u001b[0moverwrite\u001b[0m \u001b[0;32mand\u001b[0m \u001b[0mos\u001b[0m\u001b[0;34m.\u001b[0m\u001b[0mpath\u001b[0m\u001b[0;34m.\u001b[0m\u001b[0misfile\u001b[0m\u001b[0;34m(\u001b[0m\u001b[0mfilepath\u001b[0m\u001b[0;34m)\u001b[0m\u001b[0;34m:\u001b[0m\u001b[0;34m\u001b[0m\u001b[0m\n",
      "\u001b[0;31mImportError\u001b[0m: No module named h5py"
     ]
    }
   ],
   "source": [
    "model.save_weights(\"weights\")"
   ]
  },
  {
   "cell_type": "code",
   "execution_count": null,
   "metadata": {
    "collapsed": true
   },
   "outputs": [],
   "source": [
    "model.load_weights(\"weights\", by_name=False)"
   ]
  }
 ],
 "metadata": {
  "kernelspec": {
   "display_name": "Python 2",
   "language": "python",
   "name": "python2"
  },
  "language_info": {
   "codemirror_mode": {
    "name": "ipython",
    "version": 2
   },
   "file_extension": ".py",
   "mimetype": "text/x-python",
   "name": "python",
   "nbconvert_exporter": "python",
   "pygments_lexer": "ipython2",
   "version": "2.7.10"
  }
 },
 "nbformat": 4,
 "nbformat_minor": 1
}
