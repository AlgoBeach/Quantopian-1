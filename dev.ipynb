{
 "cells": [
  {
   "cell_type": "code",
   "execution_count": 17,
   "metadata": {
    "collapsed": true
   },
   "outputs": [],
   "source": [
    "import numpy as np\n",
    "import glob\n",
    "import datetime"
   ]
  },
  {
   "cell_type": "code",
   "execution_count": 18,
   "metadata": {
    "collapsed": false
   },
   "outputs": [],
   "source": [
    "dataset = []\n",
    "for idx in glob.glob(\"data/*.csv\"):\n",
    "    if idx == 'data/S&P500.csv': continue\n",
    "    stock = np.genfromtxt(idx,skip_header=1,usecols=(0,1),delimiter=',',dtype=[\"S10\",\"f8\"])\n",
    "    data = np.zeros((stock.shape[0],2))\n",
    "    data[:,0] = np.array([datetime.datetime.strptime(entry[0], \"%Y-%m-%d\").date().timetuple().tm_yday for entry in stock])\n",
    "    data[:,1] = np.array([entry[1] for entry in stock])\n",
    "    dataset.append((idx,data))"
   ]
  },
  {
   "cell_type": "code",
   "execution_count": 19,
   "metadata": {
    "collapsed": false,
    "scrolled": false
   },
   "outputs": [],
   "source": [
    "num_stocks = 4\n",
    "data_batches = []\n",
    "idxs = []\n",
    "\n",
    "for stock1 in range(0,len(dataset)):\n",
    "    for stock2 in range(stock1+1,len(dataset)):\n",
    "        for stock3 in range(stock2+1,len(dataset)):\n",
    "            for stock4 in range(stock3+1,len(dataset)):\n",
    "                size = np.min([dataset[stock1][1].shape[0],dataset[stock2][1].shape[0],dataset[stock3][1].shape[0],dataset[stock4][1].shape[0]])\n",
    "                data_batch = np.hstack((dataset[stock1][1][0:size,:],dataset[stock2][1][0:size,:],dataset[stock3][1][0:size,:],dataset[stock4][1][0:size,:]))\n",
    "                data_batches.append(data_batch)\n",
    "                if not idxs:\n",
    "                    idxs.append(data_batch.shape[0]-2)\n",
    "                else:\n",
    "                    idxs.append(idxs[-1] + data_batch.shape[0] - 1)"
   ]
  },
  {
   "cell_type": "code",
   "execution_count": 22,
   "metadata": {
    "collapsed": false,
    "scrolled": false
   },
   "outputs": [
    {
     "data": {
      "text/plain": [
       "[1128,\n",
       " 4209,\n",
       " 9116,\n",
       " 14023,\n",
       " 18930,\n",
       " 20536,\n",
       " 21665,\n",
       " 22794,\n",
       " 23923,\n",
       " 25052,\n",
       " 26181,\n",
       " 29262,\n",
       " 32343,\n",
       " 35424,\n",
       " 37030,\n",
       " 41937,\n",
       " 46844,\n",
       " 48450,\n",
       " 53357,\n",
       " 54963,\n",
       " 56569,\n",
       " 57698,\n",
       " 58827,\n",
       " 59956,\n",
       " 61085,\n",
       " 62214,\n",
       " 65295,\n",
       " 68376,\n",
       " 71457,\n",
       " 73063,\n",
       " 79801,\n",
       " 86539,\n",
       " 88145,\n",
       " 94883,\n",
       " 96489,\n",
       " 98095,\n",
       " 99224,\n",
       " 100353,\n",
       " 101482,\n",
       " 102611,\n",
       " 103740,\n",
       " 104869,\n",
       " 105998,\n",
       " 107127,\n",
       " 108256,\n",
       " 109385,\n",
       " 112466,\n",
       " 115547,\n",
       " 117153,\n",
       " 120234,\n",
       " 121840,\n",
       " 123446,\n",
       " 131179,\n",
       " 132785,\n",
       " 134391,\n",
       " 135997,\n",
       " 137126,\n",
       " 138255,\n",
       " 139384,\n",
       " 140513,\n",
       " 141642,\n",
       " 144723,\n",
       " 147804,\n",
       " 150885,\n",
       " 152491,\n",
       " 157398,\n",
       " 162305,\n",
       " 163911,\n",
       " 168818,\n",
       " 170424,\n",
       " 172030,\n",
       " 173159,\n",
       " 174288,\n",
       " 175417,\n",
       " 176546,\n",
       " 177675,\n",
       " 178804,\n",
       " 179933,\n",
       " 181062,\n",
       " 182191,\n",
       " 183320,\n",
       " 186401,\n",
       " 189482,\n",
       " 191088,\n",
       " 194169,\n",
       " 195775,\n",
       " 197381,\n",
       " 202288,\n",
       " 203894,\n",
       " 205500,\n",
       " 207106,\n",
       " 208235,\n",
       " 209364,\n",
       " 210493,\n",
       " 211622,\n",
       " 212751,\n",
       " 213880,\n",
       " 215009,\n",
       " 216138,\n",
       " 217267,\n",
       " 218396,\n",
       " 221477,\n",
       " 224558,\n",
       " 226164,\n",
       " 229245,\n",
       " 230851,\n",
       " 232457,\n",
       " 239195,\n",
       " 240801,\n",
       " 242407,\n",
       " 244013,\n",
       " 245142,\n",
       " 246271,\n",
       " 247400,\n",
       " 248529,\n",
       " 249658,\n",
       " 250787,\n",
       " 251916,\n",
       " 253045,\n",
       " 254174,\n",
       " 255303,\n",
       " 258384,\n",
       " 259990,\n",
       " 261596,\n",
       " 263202,\n",
       " 264808]"
      ]
     },
     "execution_count": 22,
     "metadata": {},
     "output_type": "execute_result"
    }
   ],
   "source": [
    "idxs"
   ]
  },
  {
   "cell_type": "code",
   "execution_count": 4,
   "metadata": {
    "collapsed": false
   },
   "outputs": [],
   "source": [
    "def label(current, future):\n",
    "    label = np.zeros(5) # [stock1, stock2, stock3, stock4, Cash]\n",
    "    profit = np.true_divide(future - current, current)\n",
    "    idx = np.argmax(profit)\n",
    "    if profit[idx] <= 0: idx = -1\n",
    "    label[idx] = 1\n",
    "    return label"
   ]
  },
  {
   "cell_type": "code",
   "execution_count": 5,
   "metadata": {
    "collapsed": false
   },
   "outputs": [],
   "source": [
    "label_batches = []\n",
    "\n",
    "for batch in data_batches:\n",
    "    label_batch = np.zeros((batch.shape[0]-1,5))\n",
    "    for idx in range(batch.shape[0]-1):\n",
    "        current, future = batch[idx+1][[1,3,5,7]], batch[idx][[1,3,5,7]]\n",
    "        label_batch[idx] = label(current,future)\n",
    "    label_batches.append(label_batch)"
   ]
  },
  {
   "cell_type": "code",
   "execution_count": 6,
   "metadata": {
    "collapsed": true
   },
   "outputs": [],
   "source": [
    "X_train = np.vstack((batch[1:,:] for batch in data_batches))"
   ]
  },
  {
   "cell_type": "code",
   "execution_count": 7,
   "metadata": {
    "collapsed": false
   },
   "outputs": [
    {
     "data": {
      "text/plain": [
       "(264809, 8)"
      ]
     },
     "execution_count": 7,
     "metadata": {},
     "output_type": "execute_result"
    }
   ],
   "source": [
    "X_train.shape"
   ]
  },
  {
   "cell_type": "code",
   "execution_count": 8,
   "metadata": {
    "collapsed": true
   },
   "outputs": [],
   "source": [
    "Y_train = np.vstack(np.vstack((label for label in label_batch)) for label_batch in label_batches)"
   ]
  },
  {
   "cell_type": "code",
   "execution_count": 9,
   "metadata": {
    "collapsed": false
   },
   "outputs": [
    {
     "data": {
      "text/plain": [
       "(264809, 5)"
      ]
     },
     "execution_count": 9,
     "metadata": {},
     "output_type": "execute_result"
    }
   ],
   "source": [
    "Y_train.shape"
   ]
  },
  {
   "cell_type": "code",
   "execution_count": 10,
   "metadata": {
    "collapsed": false
   },
   "outputs": [],
   "source": [
    "np.save('X_train',X_train)\n",
    "np.save('Y_train',Y_train)"
   ]
  },
  {
   "cell_type": "code",
   "execution_count": 38,
   "metadata": {
    "collapsed": false
   },
   "outputs": [],
   "source": []
  },
  {
   "cell_type": "code",
   "execution_count": 1,
   "metadata": {
    "collapsed": false
   },
   "outputs": [
    {
     "name": "stderr",
     "output_type": "stream",
     "text": [
      "Using TensorFlow backend.\n"
     ]
    }
   ],
   "source": [
    "import numpy as np\n",
    "from keras.models import Sequential\n",
    "from keras.layers import Dense, Dropout, Activation\n",
    "from keras.layers import LSTM"
   ]
  },
  {
   "cell_type": "code",
   "execution_count": 13,
   "metadata": {
    "collapsed": true
   },
   "outputs": [],
   "source": [
    "X_train = np.load('X_train.npy')\n",
    "Y_train = np.load('Y_train.npy')\n",
    "\n",
    "mean = X_train.mean(axis=0)\n",
    "std = X_train.std(axis=0)\n",
    "\n",
    "X_train_norm = (X_train - mean)/std"
   ]
  },
  {
   "cell_type": "code",
   "execution_count": 20,
   "metadata": {
    "collapsed": false
   },
   "outputs": [],
   "source": [
    "input_dim = X_train.shape[1]\n",
    "output_dim = Y_train.shape[1]\n",
    "T = 100\n",
    "X_train_seq = []\n",
    "Y_train_seq = []\n",
    "for i in range(len(idxs)):\n",
    "    if i == 0:\n",
    "        start_idx = 0\n",
    "    else:\n",
    "        start_idx = idxs[i-1] + 1\n",
    "    end_idx = idxs[i]\n",
    "    for j in range(start_idx + T - 1, end_idx+1):\n",
    "        tX = X_train_norm[j - (T - 1): j + 1]\n",
    "        tY = Y_train[j]\n",
    "        X_train_seq.append(tX[None,:,:])\n",
    "        Y_train_seq.append(tY[None,:])\n",
    "        del tX\n",
    "        del tY\n",
    "\n",
    "X_train_seq = np.concatenate(X_train_seq, axis=0)\n",
    "Y_train_seq = np.concatenate(Y_train_seq, axis=0)"
   ]
  },
  {
   "cell_type": "code",
   "execution_count": 27,
   "metadata": {
    "collapsed": false,
    "scrolled": false
   },
   "outputs": [
    {
     "name": "stdout",
     "output_type": "stream",
     "text": [
      "Epoch 1/20\n",
      "300/300 [==============================] - 2s - loss: 1.6707 - categorical_crossentropy: 1.6707     \n",
      "Epoch 2/20\n",
      "300/300 [==============================] - 1s - loss: 1.6119 - categorical_crossentropy: 1.6119     \n",
      "Epoch 3/20\n",
      "300/300 [==============================] - 2s - loss: 1.6006 - categorical_crossentropy: 1.6006     \n",
      "Epoch 4/20\n",
      "300/300 [==============================] - 2s - loss: 1.5888 - categorical_crossentropy: 1.5888     \n",
      "Epoch 5/20\n",
      "300/300 [==============================] - 2s - loss: 1.5845 - categorical_crossentropy: 1.5845     \n",
      "Epoch 6/20\n",
      "300/300 [==============================] - 2s - loss: 1.5825 - categorical_crossentropy: 1.5825     \n",
      "Epoch 7/20\n",
      "300/300 [==============================] - 2s - loss: 1.5678 - categorical_crossentropy: 1.5678     \n",
      "Epoch 8/20\n",
      "300/300 [==============================] - 2s - loss: 1.5702 - categorical_crossentropy: 1.5702     \n",
      "Epoch 9/20\n",
      "300/300 [==============================] - 2s - loss: 1.5695 - categorical_crossentropy: 1.5695     \n",
      "Epoch 10/20\n",
      "300/300 [==============================] - 2s - loss: 1.5701 - categorical_crossentropy: 1.5701     \n",
      "Epoch 11/20\n",
      "300/300 [==============================] - 1s - loss: 1.5662 - categorical_crossentropy: 1.5662     \n",
      "Epoch 12/20\n",
      "300/300 [==============================] - 2s - loss: 1.5559 - categorical_crossentropy: 1.5559     \n",
      "Epoch 13/20\n",
      "300/300 [==============================] - 2s - loss: 1.5618 - categorical_crossentropy: 1.5618     \n",
      "Epoch 14/20\n",
      "300/300 [==============================] - 2s - loss: 1.5576 - categorical_crossentropy: 1.5576     \n",
      "Epoch 15/20\n",
      "300/300 [==============================] - 2s - loss: 1.5538 - categorical_crossentropy: 1.5538     \n",
      "Epoch 16/20\n",
      "300/300 [==============================] - 2s - loss: 1.5487 - categorical_crossentropy: 1.5487     \n",
      "Epoch 17/20\n",
      "300/300 [==============================] - 2s - loss: 1.5471 - categorical_crossentropy: 1.5471     \n",
      "Epoch 18/20\n",
      "300/300 [==============================] - 2s - loss: 1.5382 - categorical_crossentropy: 1.5382     \n",
      "Epoch 19/20\n",
      "300/300 [==============================] - 2s - loss: 1.5479 - categorical_crossentropy: 1.5479     \n",
      "Epoch 20/20\n",
      "300/300 [==============================] - 2s - loss: 1.5387 - categorical_crossentropy: 1.5387     \n"
     ]
    },
    {
     "data": {
      "text/plain": [
       "<keras.callbacks.History at 0x17e56ef50>"
      ]
     },
     "execution_count": 27,
     "metadata": {},
     "output_type": "execute_result"
    }
   ],
   "source": [
    "data_dim = 8\n",
    "timesteps = 100\n",
    "nb_classes = 5\n",
    "\n",
    "model = Sequential()\n",
    "#model.add(Dense(42, input_dim=8))\n",
    "model.add(LSTM(100, return_sequences=False, input_shape=(timesteps, data_dim)))\n",
    "#model.add(Dropout(0.5))\n",
    "model.add(Dense(5,activation='softmax'))\n",
    "\n",
    "model.compile(loss='categorical_crossentropy',\n",
    "              optimizer='rmsprop',\n",
    "              metrics=['categorical_crossentropy'])\n",
    "\n",
    "model.fit(X_train_seq[:300], Y_train_seq[:300], batch_size=50, nb_epoch=20)\n",
    "#score = model.evaluate(X_test, Y_test, batch_size=16)"
   ]
  },
  {
   "cell_type": "code",
   "execution_count": 105,
   "metadata": {
    "collapsed": false,
    "scrolled": true
   },
   "outputs": [
    {
     "name": "stdout",
     "output_type": "stream",
     "text": [
      "Epoch 1/100\n",
      "50/50 [==============================] - 0s - loss: 0.4325 - categorical_crossentropy: 0.4325     \n",
      "Epoch 2/100\n",
      "50/50 [==============================] - 0s - loss: 0.4656 - categorical_crossentropy: 0.4656     \n",
      "Epoch 3/100\n",
      "50/50 [==============================] - 0s - loss: 0.7490 - categorical_crossentropy: 0.7490     \n",
      "Epoch 4/100\n",
      "50/50 [==============================] - 0s - loss: 1.4824 - categorical_crossentropy: 1.4824     \n",
      "Epoch 5/100\n",
      "50/50 [==============================] - 0s - loss: 0.4298 - categorical_crossentropy: 0.4298     \n",
      "Epoch 6/100\n",
      "50/50 [==============================] - 0s - loss: 0.3367 - categorical_crossentropy: 0.3367     \n",
      "Epoch 7/100\n",
      "50/50 [==============================] - 0s - loss: 0.3191 - categorical_crossentropy: 0.3191     \n",
      "Epoch 8/100\n",
      "50/50 [==============================] - 0s - loss: 0.3330 - categorical_crossentropy: 0.3330     \n",
      "Epoch 9/100\n",
      "50/50 [==============================] - 0s - loss: 0.3089 - categorical_crossentropy: 0.3089     \n",
      "Epoch 10/100\n",
      "50/50 [==============================] - 0s - loss: 0.3055 - categorical_crossentropy: 0.3055     \n",
      "Epoch 11/100\n",
      "50/50 [==============================] - 0s - loss: 0.5918 - categorical_crossentropy: 0.5918     \n",
      "Epoch 12/100\n",
      "50/50 [==============================] - 0s - loss: 1.8589 - categorical_crossentropy: 1.8589     \n",
      "Epoch 13/100\n",
      "50/50 [==============================] - 0s - loss: 0.5909 - categorical_crossentropy: 0.5909     \n",
      "Epoch 14/100\n",
      "50/50 [==============================] - 0s - loss: 0.7308 - categorical_crossentropy: 0.7308     \n",
      "Epoch 15/100\n",
      "50/50 [==============================] - 0s - loss: 0.3584 - categorical_crossentropy: 0.3584     \n",
      "Epoch 16/100\n",
      "50/50 [==============================] - 0s - loss: 0.3115 - categorical_crossentropy: 0.3115     \n",
      "Epoch 17/100\n",
      "50/50 [==============================] - 0s - loss: 0.2941 - categorical_crossentropy: 0.2941     \n",
      "Epoch 18/100\n",
      "50/50 [==============================] - 0s - loss: 0.3018 - categorical_crossentropy: 0.3018     \n",
      "Epoch 19/100\n",
      "50/50 [==============================] - 0s - loss: 0.3122 - categorical_crossentropy: 0.3122     \n",
      "Epoch 20/100\n",
      "50/50 [==============================] - 0s - loss: 0.3382 - categorical_crossentropy: 0.3382     \n",
      "Epoch 21/100\n",
      "50/50 [==============================] - 0s - loss: 0.2882 - categorical_crossentropy: 0.2882     \n",
      "Epoch 22/100\n",
      "50/50 [==============================] - 0s - loss: 0.3074 - categorical_crossentropy: 0.3074     \n",
      "Epoch 23/100\n",
      "50/50 [==============================] - 0s - loss: 0.4032 - categorical_crossentropy: 0.4032     \n",
      "Epoch 24/100\n",
      "50/50 [==============================] - 0s - loss: 0.4929 - categorical_crossentropy: 0.4929     \n",
      "Epoch 25/100\n",
      "50/50 [==============================] - 0s - loss: 0.7277 - categorical_crossentropy: 0.7277     \n",
      "Epoch 26/100\n",
      "50/50 [==============================] - 0s - loss: 1.4848 - categorical_crossentropy: 1.4848     \n",
      "Epoch 27/100\n",
      "50/50 [==============================] - 0s - loss: 1.2147 - categorical_crossentropy: 1.2147     \n",
      "Epoch 28/100\n",
      "50/50 [==============================] - 0s - loss: 0.4330 - categorical_crossentropy: 0.4330     \n",
      "Epoch 29/100\n",
      "50/50 [==============================] - 0s - loss: 0.3552 - categorical_crossentropy: 0.3552     \n",
      "Epoch 30/100\n",
      "50/50 [==============================] - 0s - loss: 0.3288 - categorical_crossentropy: 0.3288     \n",
      "Epoch 31/100\n",
      "50/50 [==============================] - 0s - loss: 0.3057 - categorical_crossentropy: 0.3057     \n",
      "Epoch 32/100\n",
      "50/50 [==============================] - 0s - loss: 0.3061 - categorical_crossentropy: 0.3061     \n",
      "Epoch 33/100\n",
      "50/50 [==============================] - 0s - loss: 0.3041 - categorical_crossentropy: 0.3041     \n",
      "Epoch 34/100\n",
      "50/50 [==============================] - 0s - loss: 0.2787 - categorical_crossentropy: 0.2787     \n",
      "Epoch 35/100\n",
      "50/50 [==============================] - 0s - loss: 0.2748 - categorical_crossentropy: 0.2748     \n",
      "Epoch 36/100\n",
      "50/50 [==============================] - 0s - loss: 0.2627 - categorical_crossentropy: 0.2627     \n",
      "Epoch 37/100\n",
      "50/50 [==============================] - 0s - loss: 0.2995 - categorical_crossentropy: 0.2995     \n",
      "Epoch 38/100\n",
      "50/50 [==============================] - 0s - loss: 0.6898 - categorical_crossentropy: 0.6898     \n",
      "Epoch 39/100\n",
      "50/50 [==============================] - 0s - loss: 1.9554 - categorical_crossentropy: 1.9554     \n",
      "Epoch 40/100\n",
      "50/50 [==============================] - 0s - loss: 0.4413 - categorical_crossentropy: 0.4413     \n",
      "Epoch 41/100\n",
      "50/50 [==============================] - 0s - loss: 0.3697 - categorical_crossentropy: 0.3697     \n",
      "Epoch 42/100\n",
      "50/50 [==============================] - 0s - loss: 0.3253 - categorical_crossentropy: 0.3253     \n",
      "Epoch 43/100\n",
      "50/50 [==============================] - 0s - loss: 0.2900 - categorical_crossentropy: 0.2900     \n",
      "Epoch 44/100\n",
      "50/50 [==============================] - 0s - loss: 0.2885 - categorical_crossentropy: 0.2885     \n",
      "Epoch 45/100\n",
      "50/50 [==============================] - 0s - loss: 0.2894 - categorical_crossentropy: 0.2894     \n",
      "Epoch 46/100\n",
      "50/50 [==============================] - 0s - loss: 0.2804 - categorical_crossentropy: 0.2804     \n",
      "Epoch 47/100\n",
      "50/50 [==============================] - 0s - loss: 0.2897 - categorical_crossentropy: 0.2897     \n",
      "Epoch 48/100\n",
      "50/50 [==============================] - 0s - loss: 0.3567 - categorical_crossentropy: 0.3567     \n",
      "Epoch 49/100\n",
      "50/50 [==============================] - 0s - loss: 1.4043 - categorical_crossentropy: 1.4043     \n",
      "Epoch 50/100\n",
      "50/50 [==============================] - 0s - loss: 1.3499 - categorical_crossentropy: 1.3499     \n",
      "Epoch 51/100\n",
      "50/50 [==============================] - 0s - loss: 1.3101 - categorical_crossentropy: 1.3101     \n",
      "Epoch 52/100\n",
      "50/50 [==============================] - 0s - loss: 0.5158 - categorical_crossentropy: 0.5158     \n",
      "Epoch 53/100\n",
      "50/50 [==============================] - 0s - loss: 0.3195 - categorical_crossentropy: 0.3195     \n",
      "Epoch 54/100\n",
      "50/50 [==============================] - 0s - loss: 0.2912 - categorical_crossentropy: 0.2912     \n",
      "Epoch 55/100\n",
      "50/50 [==============================] - 0s - loss: 0.2762 - categorical_crossentropy: 0.2762     \n",
      "Epoch 56/100\n",
      "50/50 [==============================] - 0s - loss: 0.2692 - categorical_crossentropy: 0.2692     \n",
      "Epoch 57/100\n",
      "50/50 [==============================] - 0s - loss: 0.2583 - categorical_crossentropy: 0.2583     \n",
      "Epoch 58/100\n",
      "50/50 [==============================] - 0s - loss: 0.2524 - categorical_crossentropy: 0.2524     \n",
      "Epoch 59/100\n",
      "50/50 [==============================] - 0s - loss: 0.2593 - categorical_crossentropy: 0.2593     \n",
      "Epoch 60/100\n",
      "50/50 [==============================] - 0s - loss: 0.2428 - categorical_crossentropy: 0.2428     \n",
      "Epoch 61/100\n",
      "50/50 [==============================] - 0s - loss: 0.2853 - categorical_crossentropy: 0.2853     \n",
      "Epoch 62/100\n",
      "50/50 [==============================] - 0s - loss: 0.2822 - categorical_crossentropy: 0.2822     \n",
      "Epoch 63/100\n",
      "50/50 [==============================] - 0s - loss: 0.2694 - categorical_crossentropy: 0.2694     \n",
      "Epoch 64/100\n",
      "50/50 [==============================] - 0s - loss: 0.7085 - categorical_crossentropy: 0.7085     \n",
      "Epoch 65/100\n",
      "50/50 [==============================] - 0s - loss: 2.0984 - categorical_crossentropy: 2.0984     \n",
      "Epoch 66/100\n",
      "50/50 [==============================] - 0s - loss: 0.3950 - categorical_crossentropy: 0.3950     \n",
      "Epoch 67/100\n",
      "50/50 [==============================] - 0s - loss: 0.3074 - categorical_crossentropy: 0.3074     \n",
      "Epoch 68/100\n",
      "50/50 [==============================] - 0s - loss: 0.2861 - categorical_crossentropy: 0.2861     \n",
      "Epoch 69/100\n",
      "50/50 [==============================] - 0s - loss: 0.2667 - categorical_crossentropy: 0.2667     \n",
      "Epoch 70/100\n",
      "50/50 [==============================] - 0s - loss: 0.2533 - categorical_crossentropy: 0.2533     \n",
      "Epoch 71/100\n",
      "50/50 [==============================] - 0s - loss: 0.2553 - categorical_crossentropy: 0.2553     \n",
      "Epoch 72/100\n",
      "50/50 [==============================] - 0s - loss: 0.2395 - categorical_crossentropy: 0.2395     \n",
      "Epoch 73/100\n",
      "50/50 [==============================] - 0s - loss: 0.2573 - categorical_crossentropy: 0.2573     \n",
      "Epoch 74/100\n",
      "50/50 [==============================] - 0s - loss: 0.5757 - categorical_crossentropy: 0.5757     \n",
      "Epoch 75/100\n",
      "50/50 [==============================] - 0s - loss: 0.7164 - categorical_crossentropy: 0.7164     \n",
      "Epoch 76/100\n",
      "50/50 [==============================] - 0s - loss: 1.7018 - categorical_crossentropy: 1.7018     \n",
      "Epoch 77/100\n",
      "50/50 [==============================] - 0s - loss: 0.3219 - categorical_crossentropy: 0.3219     \n",
      "Epoch 78/100\n",
      "50/50 [==============================] - 0s - loss: 0.2869 - categorical_crossentropy: 0.2869     \n",
      "Epoch 79/100\n",
      "50/50 [==============================] - 0s - loss: 0.2700 - categorical_crossentropy: 0.2700     \n",
      "Epoch 80/100\n",
      "50/50 [==============================] - 0s - loss: 0.2474 - categorical_crossentropy: 0.2474     \n",
      "Epoch 81/100\n",
      "50/50 [==============================] - 0s - loss: 0.2464 - categorical_crossentropy: 0.2464     \n",
      "Epoch 82/100\n",
      "50/50 [==============================] - 0s - loss: 0.2387 - categorical_crossentropy: 0.2387     \n",
      "Epoch 83/100\n",
      "50/50 [==============================] - 0s - loss: 0.2344 - categorical_crossentropy: 0.2344     \n",
      "Epoch 84/100\n",
      "50/50 [==============================] - 0s - loss: 0.2320 - categorical_crossentropy: 0.2320     \n",
      "Epoch 85/100\n",
      "50/50 [==============================] - 0s - loss: 0.2824 - categorical_crossentropy: 0.2824     \n",
      "Epoch 86/100\n",
      "50/50 [==============================] - 0s - loss: 0.3466 - categorical_crossentropy: 0.3466     \n",
      "Epoch 87/100\n",
      "50/50 [==============================] - 0s - loss: 0.7076 - categorical_crossentropy: 0.7076     \n",
      "Epoch 88/100\n",
      "50/50 [==============================] - 0s - loss: 1.2161 - categorical_crossentropy: 1.2161     \n",
      "Epoch 89/100\n",
      "50/50 [==============================] - 0s - loss: 1.3323 - categorical_crossentropy: 1.3323     \n",
      "Epoch 90/100\n",
      "50/50 [==============================] - 0s - loss: 1.3075 - categorical_crossentropy: 1.3075     \n",
      "Epoch 91/100\n",
      "50/50 [==============================] - 0s - loss: 0.4377 - categorical_crossentropy: 0.4377     \n",
      "Epoch 92/100\n",
      "50/50 [==============================] - 0s - loss: 0.2697 - categorical_crossentropy: 0.2697     \n",
      "Epoch 93/100\n",
      "50/50 [==============================] - 0s - loss: 0.2463 - categorical_crossentropy: 0.2463     \n",
      "Epoch 94/100\n",
      "50/50 [==============================] - 0s - loss: 0.2327 - categorical_crossentropy: 0.2327     \n",
      "Epoch 95/100\n",
      "50/50 [==============================] - 0s - loss: 0.2326 - categorical_crossentropy: 0.2326     \n",
      "Epoch 96/100\n",
      "50/50 [==============================] - 0s - loss: 0.2325 - categorical_crossentropy: 0.2325     \n",
      "Epoch 97/100\n",
      "50/50 [==============================] - 0s - loss: 0.2302 - categorical_crossentropy: 0.2302     \n",
      "Epoch 98/100\n",
      "50/50 [==============================] - 0s - loss: 0.2303 - categorical_crossentropy: 0.2303     \n",
      "Epoch 99/100\n",
      "50/50 [==============================] - 0s - loss: 0.2362 - categorical_crossentropy: 0.2362     \n",
      "Epoch 100/100\n",
      "50/50 [==============================] - 0s - loss: 0.2639 - categorical_crossentropy: 0.2639     \n"
     ]
    },
    {
     "data": {
      "text/plain": [
       "<keras.callbacks.History at 0x117053610>"
      ]
     },
     "execution_count": 105,
     "metadata": {},
     "output_type": "execute_result"
    }
   ],
   "source": [
    "model.fit(X_train_seq[:50], Y_train_seq[:50], batch_size=25, nb_epoch=100)"
   ]
  },
  {
   "cell_type": "code",
   "execution_count": 108,
   "metadata": {
    "collapsed": false
   },
   "outputs": [
    {
     "name": "stdout",
     "output_type": "stream",
     "text": [
      "50/50 [==============================] - 0s     \n"
     ]
    },
    {
     "data": {
      "text/plain": [
       "0.78000000000000003"
      ]
     },
     "execution_count": 108,
     "metadata": {},
     "output_type": "execute_result"
    }
   ],
   "source": [
    "predictions = np.argmax(model.predict_proba(X_train_seq[:50,:,:]),axis=1)\n",
    "truth = np.argmax(Y_train_seq[:50],axis=1)\n",
    "np.mean(predictions==truth)"
   ]
  },
  {
   "cell_type": "code",
   "execution_count": null,
   "metadata": {
    "collapsed": true
   },
   "outputs": [],
   "source": []
  }
 ],
 "metadata": {
  "kernelspec": {
   "display_name": "Python 2",
   "language": "python",
   "name": "python2"
  },
  "language_info": {
   "codemirror_mode": {
    "name": "ipython",
    "version": 2
   },
   "file_extension": ".py",
   "mimetype": "text/x-python",
   "name": "python",
   "nbconvert_exporter": "python",
   "pygments_lexer": "ipython2",
   "version": "2.7.12"
  }
 },
 "nbformat": 4,
 "nbformat_minor": 1
}
